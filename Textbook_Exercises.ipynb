{
  "nbformat": 4,
  "nbformat_minor": 0,
  "metadata": {
    "colab": {
      "provenance": [],
      "authorship_tag": "ABX9TyMDEWN8Hd5ejJjt5RzXbeen",
      "include_colab_link": true
    },
    "kernelspec": {
      "name": "python3",
      "display_name": "Python 3"
    },
    "language_info": {
      "name": "python"
    }
  },
  "cells": [
    {
      "cell_type": "markdown",
      "metadata": {
        "id": "view-in-github",
        "colab_type": "text"
      },
      "source": [
        "<a href=\"https://colab.research.google.com/github/khagerthey/FDS/blob/main/Textbook_Exercises.ipynb\" target=\"_parent\"><img src=\"https://colab.research.google.com/assets/colab-badge.svg\" alt=\"Open In Colab\"/></a>"
      ]
    },
    {
      "cell_type": "markdown",
      "source": [
        "#CH 2"
      ],
      "metadata": {
        "id": "NMASWlMuhXbA"
      }
    },
    {
      "cell_type": "code",
      "execution_count": 5,
      "metadata": {
        "colab": {
          "base_uri": "https://localhost:8080/"
        },
        "id": "mOqU9hitRsmh",
        "outputId": "74e14e72-2d03-457a-8bde-67a74603673c"
      },
      "outputs": [
        {
          "output_type": "stream",
          "name": "stdout",
          "text": [
            "6.3\n"
          ]
        }
      ],
      "source": [
        "#pg 40\n",
        "x =3\n",
        "y =6.3\n",
        "z =2 #defining variables\n",
        "answer = min(x, y, z)\n",
        "if x%2 != 0: #% meaning remainder and != is to test if values are different\n",
        "  answer = x\n",
        "if y%2 != 0 and y > answer:\n",
        "  answer = y\n",
        "if z%2 != 0 and z > answer:\n",
        "  answer = z\n",
        "\n",
        "print(answer)"
      ]
    },
    {
      "cell_type": "code",
      "source": [
        "#pg 44\n",
        "name = input('Kristine: ')\n",
        "# the strong 'George Washington' is assigned to the variable name\n",
        "print('Are you really', name, '?')"
      ],
      "metadata": {
        "colab": {
          "base_uri": "https://localhost:8080/"
        },
        "id": "0YsRUF4UhF9G",
        "outputId": "06d5b36d-c66e-43fe-822b-1ed4ee00e587"
      },
      "execution_count": 8,
      "outputs": [
        {
          "output_type": "stream",
          "name": "stdout",
          "text": [
            "Kristine: George Washington\n",
            "Are you really George Washington ?\n"
          ]
        }
      ]
    },
    {
      "cell_type": "code",
      "source": [
        "#pg 45\n",
        "bday = input('mm/dd/yyyy: ')\n",
        "print('You were born in the year '+ bday + '.')\n",
        "#doing a + rather than , gets rid of the weird extra space at the end"
      ],
      "metadata": {
        "colab": {
          "base_uri": "https://localhost:8080/"
        },
        "id": "hlD2x8nviurL",
        "outputId": "1295d2bf-a9ed-4c3f-e111-b17e4278653b"
      },
      "execution_count": 11,
      "outputs": [
        {
          "output_type": "stream",
          "name": "stdout",
          "text": [
            "mm/dd/yyyy: 08/06/1999\n",
            "You were born in the year 08/06/1999.\n"
          ]
        }
      ]
    },
    {
      "cell_type": "code",
      "source": [
        "#pg 48\n",
        "#use a while loop\n",
        "num_x = int(input('How many times should I print the letter X?'))\n",
        "to_print = ''\n",
        "#concatenate X to to_print num_x times\n",
        "print(to_print)"
      ],
      "metadata": {
        "colab": {
          "base_uri": "https://localhost:8080/"
        },
        "id": "dBNyAPZdnxDd",
        "outputId": "2e36f5a9-c675-44a6-e154-6a432673afae"
      },
      "execution_count": 12,
      "outputs": [
        {
          "output_type": "stream",
          "name": "stdout",
          "text": [
            "How many times should I print the letter X?10\n",
            "\n"
          ]
        }
      ]
    },
    {
      "cell_type": "code",
      "source": [
        "#While loop setup\n",
        "x = 1 #intialization\n",
        "\n",
        "while x<=4: #condition\n",
        "  print(\"Kristine\")\n",
        "  x=x+1 #increment/ decrement\n"
      ],
      "metadata": {
        "colab": {
          "base_uri": "https://localhost:8080/"
        },
        "id": "W373uH0dv_Ah",
        "outputId": "1d5a116a-f964-40cc-c49d-5139b70439c8"
      },
      "execution_count": 17,
      "outputs": [
        {
          "output_type": "stream",
          "name": "stdout",
          "text": [
            "Kristine\n",
            "Kristine\n",
            "Kristine\n",
            "Kristine\n"
          ]
        }
      ]
    },
    {
      "cell_type": "code",
      "source": [
        "  num_x = int(input(\n",
        "      x = 1\n",
        "      while x<=4:\n",
        "        print(\"loop\")\n",
        "        x=x+1))\n",
        "  to_print = ''\n",
        "  print(to_print)\n",
        "  #I need help with this"
      ],
      "metadata": {
        "colab": {
          "base_uri": "https://localhost:8080/",
          "height": 143
        },
        "id": "J1gS5bMpxsnY",
        "outputId": "3662520a-c81f-4b2b-d83f-cc81b29dcae8"
      },
      "execution_count": 18,
      "outputs": [
        {
          "output_type": "error",
          "ename": "SyntaxError",
          "evalue": "ignored",
          "traceback": [
            "\u001b[0;36m  File \u001b[0;32m\"<ipython-input-18-43b25bb88a40>\"\u001b[0;36m, line \u001b[0;32m3\u001b[0m\n\u001b[0;31m    while x<=4:\u001b[0m\n\u001b[0m    ^\u001b[0m\n\u001b[0;31mSyntaxError\u001b[0m\u001b[0;31m:\u001b[0m invalid syntax\n"
          ]
        }
      ]
    }
  ]
}