{
  "nbformat": 4,
  "nbformat_minor": 0,
  "metadata": {
    "colab": {
      "provenance": [],
      "authorship_tag": "ABX9TyMsw895M2V8tDJ1wuV7P7dj",
      "include_colab_link": true
    },
    "kernelspec": {
      "name": "python3",
      "display_name": "Python 3"
    },
    "language_info": {
      "name": "python"
    }
  },
  "cells": [
    {
      "cell_type": "markdown",
      "metadata": {
        "id": "view-in-github",
        "colab_type": "text"
      },
      "source": [
        "<a href=\"https://colab.research.google.com/github/khagerthey/FDS/blob/main/Textbook_Exercises.ipynb\" target=\"_parent\"><img src=\"https://colab.research.google.com/assets/colab-badge.svg\" alt=\"Open In Colab\"/></a>"
      ]
    },
    {
      "cell_type": "code",
      "execution_count": 5,
      "metadata": {
        "colab": {
          "base_uri": "https://localhost:8080/"
        },
        "id": "mOqU9hitRsmh",
        "outputId": "74e14e72-2d03-457a-8bde-67a74603673c"
      },
      "outputs": [
        {
          "output_type": "stream",
          "name": "stdout",
          "text": [
            "6.3\n"
          ]
        }
      ],
      "source": [
        "x =3\n",
        "y =6.3\n",
        "z =2 #defining variables\n",
        "answer = min(x, y, z)\n",
        "if x%2 != 0: #% meaning remainder and != is to test if values are different\n",
        "  answer = x\n",
        "if y%2 != 0 and y > answer:\n",
        "  answer = y\n",
        "if z%2 != 0 and z > answer:\n",
        "  answer = z\n",
        "\n",
        "print(answer)"
      ]
    }
  ]
}