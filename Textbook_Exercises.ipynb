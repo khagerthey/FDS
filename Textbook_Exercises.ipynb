{
  "nbformat": 4,
  "nbformat_minor": 0,
  "metadata": {
    "colab": {
      "provenance": [],
      "authorship_tag": "ABX9TyNXi0uYmA0K8icb9drF9t6N",
      "include_colab_link": true
    },
    "kernelspec": {
      "name": "python3",
      "display_name": "Python 3"
    },
    "language_info": {
      "name": "python"
    }
  },
  "cells": [
    {
      "cell_type": "markdown",
      "metadata": {
        "id": "view-in-github",
        "colab_type": "text"
      },
      "source": [
        "<a href=\"https://colab.research.google.com/github/khagerthey/FDS/blob/main/Textbook_Exercises.ipynb\" target=\"_parent\"><img src=\"https://colab.research.google.com/assets/colab-badge.svg\" alt=\"Open In Colab\"/></a>"
      ]
    },
    {
      "cell_type": "markdown",
      "source": [
        "#CH 2"
      ],
      "metadata": {
        "id": "NMASWlMuhXbA"
      }
    },
    {
      "cell_type": "code",
      "execution_count": 5,
      "metadata": {
        "colab": {
          "base_uri": "https://localhost:8080/"
        },
        "id": "mOqU9hitRsmh",
        "outputId": "74e14e72-2d03-457a-8bde-67a74603673c"
      },
      "outputs": [
        {
          "output_type": "stream",
          "name": "stdout",
          "text": [
            "6.3\n"
          ]
        }
      ],
      "source": [
        "#pg 40\n",
        "x =3\n",
        "y =6.3\n",
        "z =2 #defining variables\n",
        "answer = min(x, y, z)\n",
        "if x%2 != 0: #% meaning remainder and != is to test if values are different\n",
        "  answer = x\n",
        "if y%2 != 0 and y > answer:\n",
        "  answer = y\n",
        "if z%2 != 0 and z > answer:\n",
        "  answer = z\n",
        "\n",
        "print(answer)"
      ]
    },
    {
      "cell_type": "code",
      "source": [
        "#pg 44\n",
        "name = input('Kristine: ')\n",
        "# the strong 'George Washington' is assigned to the variable name\n",
        "print('Are you really', name, '?')"
      ],
      "metadata": {
        "colab": {
          "base_uri": "https://localhost:8080/"
        },
        "id": "0YsRUF4UhF9G",
        "outputId": "06d5b36d-c66e-43fe-822b-1ed4ee00e587"
      },
      "execution_count": 8,
      "outputs": [
        {
          "output_type": "stream",
          "name": "stdout",
          "text": [
            "Kristine: George Washington\n",
            "Are you really George Washington ?\n"
          ]
        }
      ]
    },
    {
      "cell_type": "code",
      "source": [
        "#pg 45\n",
        "bday = input('mm/dd/yyyy: ')\n",
        "print('You were born in the year '+ bday + '.')\n",
        "#doing a + rather than , gets rid of the weird extra space at the end"
      ],
      "metadata": {
        "colab": {
          "base_uri": "https://localhost:8080/"
        },
        "id": "hlD2x8nviurL",
        "outputId": "1295d2bf-a9ed-4c3f-e111-b17e4278653b"
      },
      "execution_count": 11,
      "outputs": [
        {
          "output_type": "stream",
          "name": "stdout",
          "text": [
            "mm/dd/yyyy: 08/06/1999\n",
            "You were born in the year 08/06/1999.\n"
          ]
        }
      ]
    },
    {
      "cell_type": "code",
      "source": [
        "#pg 48\n",
        "#use a while loop\n",
        "num_x = int(input('How many times should I print the letter X?'))\n",
        "to_print = ''\n",
        "#concatenate X to to_print num_x times\n",
        "print(to_print)"
      ],
      "metadata": {
        "colab": {
          "base_uri": "https://localhost:8080/"
        },
        "id": "dBNyAPZdnxDd",
        "outputId": "2e36f5a9-c675-44a6-e154-6a432673afae"
      },
      "execution_count": 12,
      "outputs": [
        {
          "output_type": "stream",
          "name": "stdout",
          "text": [
            "How many times should I print the letter X?10\n",
            "\n"
          ]
        }
      ]
    },
    {
      "cell_type": "code",
      "source": [
        "#While loop setup\n",
        "x = 1 #intialization\n",
        "\n",
        "while x<=4: #condition\n",
        "  print(\"Kristine\")\n",
        "  x=x+1 #increment/ decrement\n"
      ],
      "metadata": {
        "colab": {
          "base_uri": "https://localhost:8080/"
        },
        "id": "W373uH0dv_Ah",
        "outputId": "1d5a116a-f964-40cc-c49d-5139b70439c8"
      },
      "execution_count": 17,
      "outputs": [
        {
          "output_type": "stream",
          "name": "stdout",
          "text": [
            "Kristine\n",
            "Kristine\n",
            "Kristine\n",
            "Kristine\n"
          ]
        }
      ]
    },
    {
      "cell_type": "code",
      "source": [
        "  num_x = int(input(\n",
        "      x = 1\n",
        "      while x<=4:\n",
        "        print(\"loop\")\n",
        "        x=x+1))\n",
        "  to_print = ''\n",
        "  print(to_print)\n",
        "  #I need help with this"
      ],
      "metadata": {
        "colab": {
          "base_uri": "https://localhost:8080/",
          "height": 143
        },
        "id": "J1gS5bMpxsnY",
        "outputId": "3662520a-c81f-4b2b-d83f-cc81b29dcae8"
      },
      "execution_count": 18,
      "outputs": [
        {
          "output_type": "error",
          "ename": "SyntaxError",
          "evalue": "ignored",
          "traceback": [
            "\u001b[0;36m  File \u001b[0;32m\"<ipython-input-18-43b25bb88a40>\"\u001b[0;36m, line \u001b[0;32m3\u001b[0m\n\u001b[0;31m    while x<=4:\u001b[0m\n\u001b[0m    ^\u001b[0m\n\u001b[0;31mSyntaxError\u001b[0m\u001b[0;31m:\u001b[0m invalid syntax\n"
          ]
        }
      ]
    },
    {
      "cell_type": "code",
      "source": [
        "#pg 48\n",
        "def exercise():\n",
        "        num = [input('Enter a value: ') for i in range(3)]\n",
        "        odds = num%2\n",
        "        #odds = [y for y in numbers if y % 2!= 0]\n",
        "        if odds >0:\n",
        "            return max(odds)\n",
        "        else:\n",
        "            return 'All declared variables have even values.'\n",
        "\n",
        "exercise() #must call back the function after defining\n",
        "#need help"
      ],
      "metadata": {
        "colab": {
          "base_uri": "https://localhost:8080/",
          "height": 447
        },
        "id": "FjSeiSO-y7iQ",
        "outputId": "037cf384-7236-4a25-f449-8b30db50b5b5"
      },
      "execution_count": 71,
      "outputs": [
        {
          "name": "stdout",
          "output_type": "stream",
          "text": [
            "Enter a value: 2\n",
            "Enter a value: 3\n",
            "Enter a value: 4\n"
          ]
        },
        {
          "output_type": "error",
          "ename": "TypeError",
          "evalue": "ignored",
          "traceback": [
            "\u001b[0;31m---------------------------------------------------------------------------\u001b[0m",
            "\u001b[0;31mTypeError\u001b[0m                                 Traceback (most recent call last)",
            "\u001b[0;32m<ipython-input-71-f21c08332c3c>\u001b[0m in \u001b[0;36m<cell line: 11>\u001b[0;34m()\u001b[0m\n\u001b[1;32m      9\u001b[0m             \u001b[0;32mreturn\u001b[0m \u001b[0;34m'All declared variables have even values.'\u001b[0m\u001b[0;34m\u001b[0m\u001b[0;34m\u001b[0m\u001b[0m\n\u001b[1;32m     10\u001b[0m \u001b[0;34m\u001b[0m\u001b[0m\n\u001b[0;32m---> 11\u001b[0;31m \u001b[0mexercise\u001b[0m\u001b[0;34m(\u001b[0m\u001b[0;34m)\u001b[0m \u001b[0;31m#must call back the function after defining\u001b[0m\u001b[0;34m\u001b[0m\u001b[0;34m\u001b[0m\u001b[0m\n\u001b[0m\u001b[1;32m     12\u001b[0m \u001b[0;31m#need help\u001b[0m\u001b[0;34m\u001b[0m\u001b[0;34m\u001b[0m\u001b[0m\n",
            "\u001b[0;32m<ipython-input-71-f21c08332c3c>\u001b[0m in \u001b[0;36mexercise\u001b[0;34m()\u001b[0m\n\u001b[1;32m      2\u001b[0m \u001b[0;32mdef\u001b[0m \u001b[0mexercise\u001b[0m\u001b[0;34m(\u001b[0m\u001b[0;34m)\u001b[0m\u001b[0;34m:\u001b[0m\u001b[0;34m\u001b[0m\u001b[0;34m\u001b[0m\u001b[0m\n\u001b[1;32m      3\u001b[0m         \u001b[0mnum\u001b[0m \u001b[0;34m=\u001b[0m \u001b[0;34m[\u001b[0m\u001b[0minput\u001b[0m\u001b[0;34m(\u001b[0m\u001b[0;34m'Enter a value: '\u001b[0m\u001b[0;34m)\u001b[0m \u001b[0;32mfor\u001b[0m \u001b[0mi\u001b[0m \u001b[0;32min\u001b[0m \u001b[0mrange\u001b[0m\u001b[0;34m(\u001b[0m\u001b[0;36m3\u001b[0m\u001b[0;34m)\u001b[0m\u001b[0;34m]\u001b[0m\u001b[0;34m\u001b[0m\u001b[0;34m\u001b[0m\u001b[0m\n\u001b[0;32m----> 4\u001b[0;31m         \u001b[0modds\u001b[0m \u001b[0;34m=\u001b[0m \u001b[0mnum\u001b[0m\u001b[0;34m%\u001b[0m\u001b[0;36m2\u001b[0m\u001b[0;34m\u001b[0m\u001b[0;34m\u001b[0m\u001b[0m\n\u001b[0m\u001b[1;32m      5\u001b[0m         \u001b[0;31m#odds = [y for y in numbers if y % 2!= 0]\u001b[0m\u001b[0;34m\u001b[0m\u001b[0;34m\u001b[0m\u001b[0m\n\u001b[1;32m      6\u001b[0m         \u001b[0;32mif\u001b[0m \u001b[0modds\u001b[0m \u001b[0;34m>\u001b[0m\u001b[0;36m0\u001b[0m\u001b[0;34m:\u001b[0m\u001b[0;34m\u001b[0m\u001b[0;34m\u001b[0m\u001b[0m\n",
            "\u001b[0;31mTypeError\u001b[0m: unsupported operand type(s) for %: 'list' and 'int'"
          ]
        }
      ]
    },
    {
      "cell_type": "code",
      "source": [
        "#for loop pg 50\n",
        "total = 0\n",
        "for num in (77, 11, 3): #called a tuple\n",
        "    total = total + num\n",
        "print(total)"
      ],
      "metadata": {
        "colab": {
          "base_uri": "https://localhost:8080/"
        },
        "id": "yfGD0wD282pn",
        "outputId": "580509ef-3a91-4608-ce61-54a65451e45c"
      },
      "execution_count": 72,
      "outputs": [
        {
          "output_type": "stream",
          "name": "stdout",
          "text": [
            "91\n"
          ]
        }
      ]
    },
    {
      "cell_type": "code",
      "source": [
        "#range\n",
        "x = 4\n",
        "for i in range(x):\n",
        "  print(i)"
      ],
      "metadata": {
        "colab": {
          "base_uri": "https://localhost:8080/"
        },
        "id": "eYj7SEAz-QAi",
        "outputId": "a2aa4306-78c9-488d-921f-5d86a89aaf01"
      },
      "execution_count": 73,
      "outputs": [
        {
          "output_type": "stream",
          "name": "stdout",
          "text": [
            "0\n",
            "1\n",
            "2\n",
            "3\n"
          ]
        }
      ]
    },
    {
      "cell_type": "code",
      "source": [
        "for i in range(2):\n",
        "  print(i)\n",
        "  i=0\n",
        "  print(i)\n",
        "  #halts rather than 0 continuing"
      ],
      "metadata": {
        "colab": {
          "base_uri": "https://localhost:8080/"
        },
        "id": "uLEfbHb-AANz",
        "outputId": "00a826ec-65dd-449a-c9f5-56be33074d24"
      },
      "execution_count": 76,
      "outputs": [
        {
          "output_type": "stream",
          "name": "stdout",
          "text": [
            "0\n",
            "0\n",
            "1\n",
            "0\n"
          ]
        }
      ]
    },
    {
      "cell_type": "code",
      "source": [
        "index = 0\n",
        "last_index <= 1\n",
        "while index <= last_index:\n",
        "  i = indexprint(i)\n",
        "  i = 0\n",
        "  print(i)\n",
        "  index = index +1"
      ],
      "metadata": {
        "colab": {
          "base_uri": "https://localhost:8080/",
          "height": 286
        },
        "id": "EecmBI61AZMF",
        "outputId": "985bfc77-b292-4b5a-c735-479dd73e5ad9"
      },
      "execution_count": 77,
      "outputs": [
        {
          "output_type": "error",
          "ename": "NameError",
          "evalue": "ignored",
          "traceback": [
            "\u001b[0;31m---------------------------------------------------------------------------\u001b[0m",
            "\u001b[0;31mNameError\u001b[0m                                 Traceback (most recent call last)",
            "\u001b[0;32m<ipython-input-77-e2f20f3a1aeb>\u001b[0m in \u001b[0;36m<cell line: 2>\u001b[0;34m()\u001b[0m\n\u001b[1;32m      1\u001b[0m \u001b[0mindex\u001b[0m \u001b[0;34m=\u001b[0m \u001b[0;36m0\u001b[0m\u001b[0;34m\u001b[0m\u001b[0;34m\u001b[0m\u001b[0m\n\u001b[0;32m----> 2\u001b[0;31m \u001b[0mlast_index\u001b[0m \u001b[0;34m<=\u001b[0m \u001b[0;36m1\u001b[0m\u001b[0;34m\u001b[0m\u001b[0;34m\u001b[0m\u001b[0m\n\u001b[0m\u001b[1;32m      3\u001b[0m \u001b[0;32mwhile\u001b[0m \u001b[0mindex\u001b[0m \u001b[0;34m<=\u001b[0m \u001b[0mlast_index\u001b[0m\u001b[0;34m:\u001b[0m\u001b[0;34m\u001b[0m\u001b[0;34m\u001b[0m\u001b[0m\n\u001b[1;32m      4\u001b[0m   \u001b[0mi\u001b[0m \u001b[0;34m=\u001b[0m \u001b[0mindexprint\u001b[0m\u001b[0;34m(\u001b[0m\u001b[0mi\u001b[0m\u001b[0;34m)\u001b[0m\u001b[0;34m\u001b[0m\u001b[0;34m\u001b[0m\u001b[0m\n\u001b[1;32m      5\u001b[0m   \u001b[0mi\u001b[0m \u001b[0;34m=\u001b[0m \u001b[0;36m0\u001b[0m\u001b[0;34m\u001b[0m\u001b[0;34m\u001b[0m\u001b[0m\n",
            "\u001b[0;31mNameError\u001b[0m: name 'last_index' is not defined"
          ]
        }
      ]
    },
    {
      "cell_type": "code",
      "source": [
        "#nesting loops\n",
        "x=4\n",
        "for j in range(x):\n",
        "    for i in range(x):\n",
        "      x=2"
      ],
      "metadata": {
        "id": "JWRNzHorA7ES"
      },
      "execution_count": 78,
      "outputs": []
    },
    {
      "cell_type": "code",
      "source": [
        "total = 0\n",
        "for c in '12345678':\n",
        "    total = total + int(c)\n",
        "print(total)\n",
        "#sumes the digits in the strong denoted by the literal '12345678'\n",
        "#and prints the total"
      ],
      "metadata": {
        "colab": {
          "base_uri": "https://localhost:8080/"
        },
        "id": "tSUArhRrBXAQ",
        "outputId": "6f026c81-c475-4b07-ddf7-39f7a6f8cf58"
      },
      "execution_count": 79,
      "outputs": [
        {
          "output_type": "stream",
          "name": "stdout",
          "text": [
            "36\n"
          ]
        }
      ]
    },
    {
      "cell_type": "code",
      "source": [
        "#pg51\n",
        "def prime_nums(n):\n",
        "    \"\"\"Check if number is prime.\"\"\"\n",
        "    if n <= 1:\n",
        "        return False\n",
        "    for i in range(2, int(n ** 0.5) + 1):\n",
        "        if n % i == 0:\n",
        "            return False\n",
        "    return True\n",
        "\n",
        "sum_of_primes = 0\n",
        "for num in range(3,1000):\n",
        "    #if prime_nums(num):\n",
        "    if int(num) % 2 == 0:\n",
        "        sum_of_primes += num\n",
        "\n",
        "print(sum_of_primes)"
      ],
      "metadata": {
        "colab": {
          "base_uri": "https://localhost:8080/"
        },
        "id": "ui4Ke-l2BrJJ",
        "outputId": "062d64d9-eafe-4547-c4c3-eb38aeaeeccb"
      },
      "execution_count": 99,
      "outputs": [
        {
          "output_type": "stream",
          "name": "stdout",
          "text": [
            "249498\n"
          ]
        }
      ]
    },
    {
      "cell_type": "markdown",
      "source": [
        "#CH 3"
      ],
      "metadata": {
        "id": "FMQ87VBDGNt2"
      }
    }
  ]
}