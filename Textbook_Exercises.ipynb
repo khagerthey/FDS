{
  "nbformat": 4,
  "nbformat_minor": 0,
  "metadata": {
    "colab": {
      "provenance": [],
      "authorship_tag": "ABX9TyNrmFvvAgzLWzepwTmUjjft",
      "include_colab_link": true
    },
    "kernelspec": {
      "name": "python3",
      "display_name": "Python 3"
    },
    "language_info": {
      "name": "python"
    }
  },
  "cells": [
    {
      "cell_type": "markdown",
      "metadata": {
        "id": "view-in-github",
        "colab_type": "text"
      },
      "source": [
        "<a href=\"https://colab.research.google.com/github/khagerthey/FDS/blob/main/Textbook_Exercises.ipynb\" target=\"_parent\"><img src=\"https://colab.research.google.com/assets/colab-badge.svg\" alt=\"Open In Colab\"/></a>"
      ]
    },
    {
      "cell_type": "markdown",
      "source": [
        "#CH 2"
      ],
      "metadata": {
        "id": "NMASWlMuhXbA"
      }
    },
    {
      "cell_type": "code",
      "execution_count": 5,
      "metadata": {
        "colab": {
          "base_uri": "https://localhost:8080/"
        },
        "id": "mOqU9hitRsmh",
        "outputId": "74e14e72-2d03-457a-8bde-67a74603673c"
      },
      "outputs": [
        {
          "output_type": "stream",
          "name": "stdout",
          "text": [
            "6.3\n"
          ]
        }
      ],
      "source": [
        "#pg 40\n",
        "x =3\n",
        "y =6.3\n",
        "z =2 #defining variables\n",
        "answer = min(x, y, z)\n",
        "if x%2 != 0: #% meaning remainder and != is to test if values are different\n",
        "  answer = x\n",
        "if y%2 != 0 and y > answer:\n",
        "  answer = y\n",
        "if z%2 != 0 and z > answer:\n",
        "  answer = z\n",
        "\n",
        "print(answer)"
      ]
    },
    {
      "cell_type": "code",
      "source": [
        "#pg 44\n",
        "name = input('Kristine: ')\n",
        "# the strong 'George Washington' is assigned to the variable name\n",
        "print('Are you really', name, '?')"
      ],
      "metadata": {
        "colab": {
          "base_uri": "https://localhost:8080/"
        },
        "id": "0YsRUF4UhF9G",
        "outputId": "06d5b36d-c66e-43fe-822b-1ed4ee00e587"
      },
      "execution_count": 8,
      "outputs": [
        {
          "output_type": "stream",
          "name": "stdout",
          "text": [
            "Kristine: George Washington\n",
            "Are you really George Washington ?\n"
          ]
        }
      ]
    },
    {
      "cell_type": "code",
      "source": [
        "#pg 45\n",
        "bday = input('mm/dd/yyyy: ')\n",
        "print('You were born in the year '+ bday + '.')\n",
        "#doing a + rather than , gets rid of the weird extra space at the end"
      ],
      "metadata": {
        "colab": {
          "base_uri": "https://localhost:8080/"
        },
        "id": "hlD2x8nviurL",
        "outputId": "1295d2bf-a9ed-4c3f-e111-b17e4278653b"
      },
      "execution_count": 11,
      "outputs": [
        {
          "output_type": "stream",
          "name": "stdout",
          "text": [
            "mm/dd/yyyy: 08/06/1999\n",
            "You were born in the year 08/06/1999.\n"
          ]
        }
      ]
    }
  ]
}